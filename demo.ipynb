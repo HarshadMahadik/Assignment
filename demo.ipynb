{
 "cells": [
  {
   "cell_type": "code",
   "execution_count": 9,
   "metadata": {},
   "outputs": [
    {
     "name": "stdout",
     "output_type": "stream",
     "text": [
      "      Unnamed: 0                                car_name car_prices_in_rupee  \\\n",
      "0              0  Jeep Compass 2.0 Longitude Option BSIV          10.03 Lakh   \n",
      "1              1            Renault Duster RXZ Turbo CVT          12.83 Lakh   \n",
      "2              2                      Toyota Camry 2.5 G          16.40 Lakh   \n",
      "3              3                       Honda Jazz VX CVT           7.77 Lakh   \n",
      "4              4        Volkswagen Polo 1.2 MPI Highline           5.15 Lakh   \n",
      "...          ...                                     ...                 ...   \n",
      "5507        5507                 BMW X1 sDrive 20d xLine          28.90 Lakh   \n",
      "5508        5508                   BMW M Series M4 Coupe          64.90 Lakh   \n",
      "5509        5509              Jaguar XF 2.2 Litre Luxury          13.75 Lakh   \n",
      "5510        5510                      BMW 7 Series 730Ld          29.90 Lakh   \n",
      "5511        5511               BMW 5 Series 520d M Sport          31.90 Lakh   \n",
      "\n",
      "      kms_driven fuel_type transmission  ownership  manufacture   engine  \\\n",
      "0     86,226 kms    Diesel       Manual  1st Owner         2017  1956 cc   \n",
      "1     13,248 kms    Petrol    Automatic  1st Owner         2021  1330 cc   \n",
      "2     60,343 kms    Petrol    Automatic  1st Owner         2016  2494 cc   \n",
      "3     26,696 kms    Petrol    Automatic  1st Owner         2018  1199 cc   \n",
      "4     69,414 kms    Petrol       Manual  1st Owner         2016  1199 cc   \n",
      "...          ...       ...          ...        ...          ...      ...   \n",
      "5507  45,000 kms    Diesel    Automatic  1st Owner         2018  2995 cc   \n",
      "5508  29,000 kms    Petrol    Automatic  2nd Owner         2015  1968 cc   \n",
      "5509  90,000 kms    Diesel    Automatic  2nd Owner         2013  2755 cc   \n",
      "5510  79,000 kms    Diesel    Automatic  3rd Owner         2015  2967 cc   \n",
      "5511  42,000 kms    Diesel    Automatic  2nd Owner         2017  1991 cc   \n",
      "\n",
      "        Seats  \n",
      "0     5 Seats  \n",
      "1     5 Seats  \n",
      "2     5 Seats  \n",
      "3     5 Seats  \n",
      "4     5 Seats  \n",
      "...       ...  \n",
      "5507  7 Seats  \n",
      "5508  5 Seats  \n",
      "5509  5 Seats  \n",
      "5510  6 Seats  \n",
      "5511  5 Seats  \n",
      "\n",
      "[5512 rows x 10 columns]\n"
     ]
    }
   ],
   "source": [
    "import pandas as pd\n",
    "df = pd.read_csv('car_price.csv')\n",
    "old = pd.DataFrame(df)\n",
    "print(old)"
   ]
  },
  {
   "cell_type": "code",
   "execution_count": 10,
   "metadata": {},
   "outputs": [
    {
     "name": "stdout",
     "output_type": "stream",
     "text": [
      "df.coloumns -> Index(['Unnamed: 0', 'car_name', 'car_prices_in_rupee', 'kms_driven',\n",
      "       'fuel_type', 'transmission', 'ownership', 'manufacture', 'engine',\n",
      "       'Seats'],\n",
      "      dtype='object')\n"
     ]
    }
   ],
   "source": [
    "print('df.coloumns ->',old.columns)"
   ]
  },
  {
   "attachments": {},
   "cell_type": "markdown",
   "metadata": {},
   "source": [
    "\n"
   ]
  },
  {
   "cell_type": "code",
   "execution_count": 11,
   "metadata": {},
   "outputs": [
    {
     "name": "stdout",
     "output_type": "stream",
     "text": [
      "                                    car_name car_prices_in_rupee  kms_driven  \\\n",
      "0     Jeep Compass 2.0 Longitude Option BSIV          10.03 Lakh  86,226 kms   \n",
      "1               Renault Duster RXZ Turbo CVT          12.83 Lakh  13,248 kms   \n",
      "2                         Toyota Camry 2.5 G          16.40 Lakh  60,343 kms   \n",
      "3                          Honda Jazz VX CVT           7.77 Lakh  26,696 kms   \n",
      "4           Volkswagen Polo 1.2 MPI Highline           5.15 Lakh  69,414 kms   \n",
      "...                                      ...                 ...         ...   \n",
      "5507                 BMW X1 sDrive 20d xLine          28.90 Lakh  45,000 kms   \n",
      "5508                   BMW M Series M4 Coupe          64.90 Lakh  29,000 kms   \n",
      "5509              Jaguar XF 2.2 Litre Luxury          13.75 Lakh  90,000 kms   \n",
      "5510                      BMW 7 Series 730Ld          29.90 Lakh  79,000 kms   \n",
      "5511               BMW 5 Series 520d M Sport          31.90 Lakh  42,000 kms   \n",
      "\n",
      "     fuel_type transmission  ownership  manufacture   engine    Seats  \n",
      "0       Diesel       Manual  1st Owner         2017  1956 cc  5 Seats  \n",
      "1       Petrol    Automatic  1st Owner         2021  1330 cc  5 Seats  \n",
      "2       Petrol    Automatic  1st Owner         2016  2494 cc  5 Seats  \n",
      "3       Petrol    Automatic  1st Owner         2018  1199 cc  5 Seats  \n",
      "4       Petrol       Manual  1st Owner         2016  1199 cc  5 Seats  \n",
      "...        ...          ...        ...          ...      ...      ...  \n",
      "5507    Diesel    Automatic  1st Owner         2018  2995 cc  7 Seats  \n",
      "5508    Petrol    Automatic  2nd Owner         2015  1968 cc  5 Seats  \n",
      "5509    Diesel    Automatic  2nd Owner         2013  2755 cc  5 Seats  \n",
      "5510    Diesel    Automatic  3rd Owner         2015  2967 cc  6 Seats  \n",
      "5511    Diesel    Automatic  2nd Owner         2017  1991 cc  5 Seats  \n",
      "\n",
      "[5512 rows x 9 columns]\n"
     ]
    }
   ],
   "source": [
    "old.drop(['Unnamed: 0'], axis=1, inplace = True)\n",
    "print(old)\n"
   ]
  },
  {
   "cell_type": "code",
   "execution_count": 12,
   "metadata": {},
   "outputs": [
    {
     "name": "stdout",
     "output_type": "stream",
     "text": [
      "Droped csv       Unnamed: 0                                car_name car_prices_in_rupee  \\\n",
      "0              0  Jeep Compass 2.0 Longitude Option BSIV          10.03 Lakh   \n",
      "1              1            Renault Duster RXZ Turbo CVT          12.83 Lakh   \n",
      "2              2                      Toyota Camry 2.5 G          16.40 Lakh   \n",
      "3              3                       Honda Jazz VX CVT           7.77 Lakh   \n",
      "4              4        Volkswagen Polo 1.2 MPI Highline           5.15 Lakh   \n",
      "...          ...                                     ...                 ...   \n",
      "5507        5507                 BMW X1 sDrive 20d xLine          28.90 Lakh   \n",
      "5508        5508                   BMW M Series M4 Coupe          64.90 Lakh   \n",
      "5509        5509              Jaguar XF 2.2 Litre Luxury          13.75 Lakh   \n",
      "5510        5510                      BMW 7 Series 730Ld          29.90 Lakh   \n",
      "5511        5511               BMW 5 Series 520d M Sport          31.90 Lakh   \n",
      "\n",
      "      kms_driven fuel_type transmission  ownership  manufacture   engine  \\\n",
      "0     86,226 kms    Diesel       Manual  1st Owner         2017  1956 cc   \n",
      "1     13,248 kms    Petrol    Automatic  1st Owner         2021  1330 cc   \n",
      "2     60,343 kms    Petrol    Automatic  1st Owner         2016  2494 cc   \n",
      "3     26,696 kms    Petrol    Automatic  1st Owner         2018  1199 cc   \n",
      "4     69,414 kms    Petrol       Manual  1st Owner         2016  1199 cc   \n",
      "...          ...       ...          ...        ...          ...      ...   \n",
      "5507  45,000 kms    Diesel    Automatic  1st Owner         2018  2995 cc   \n",
      "5508  29,000 kms    Petrol    Automatic  2nd Owner         2015  1968 cc   \n",
      "5509  90,000 kms    Diesel    Automatic  2nd Owner         2013  2755 cc   \n",
      "5510  79,000 kms    Diesel    Automatic  3rd Owner         2015  2967 cc   \n",
      "5511  42,000 kms    Diesel    Automatic  2nd Owner         2017  1991 cc   \n",
      "\n",
      "        Seats  \n",
      "0     5 Seats  \n",
      "1     5 Seats  \n",
      "2     5 Seats  \n",
      "3     5 Seats  \n",
      "4     5 Seats  \n",
      "...       ...  \n",
      "5507  7 Seats  \n",
      "5508  5 Seats  \n",
      "5509  5 Seats  \n",
      "5510  6 Seats  \n",
      "5511  5 Seats  \n",
      "\n",
      "[5512 rows x 10 columns]\n"
     ]
    }
   ],
   "source": [
    "df_csv_cleaned = df.dropna()\n",
    "print(\"Droped csv\", df_csv_cleaned)"
   ]
  },
  {
   "cell_type": "code",
   "execution_count": 13,
   "metadata": {},
   "outputs": [
    {
     "name": "stdout",
     "output_type": "stream",
     "text": [
      "Shape (gives number of rows[0] and columns[1])\n",
      "(5512, 9)\n"
     ]
    }
   ],
   "source": [
    "print(\"Shape (gives number of rows[0] and columns[1])\")\n",
    "print(old.shape)\n"
   ]
  },
  {
   "cell_type": "code",
   "execution_count": 14,
   "metadata": {},
   "outputs": [
    {
     "name": "stdout",
     "output_type": "stream",
     "text": [
      "5512\n",
      "9\n"
     ]
    }
   ],
   "source": [
    "print(old.shape[0])\n",
    "print(old.shape[1])\n"
   ]
  },
  {
   "cell_type": "code",
   "execution_count": 15,
   "metadata": {},
   "outputs": [
    {
     "name": "stdout",
     "output_type": "stream",
     "text": [
      "Info() and describe()\n",
      "infor : \n",
      "<class 'pandas.core.frame.DataFrame'>\n",
      "RangeIndex: 5512 entries, 0 to 5511\n",
      "Data columns (total 9 columns):\n",
      " #   Column               Non-Null Count  Dtype \n",
      "---  ------               --------------  ----- \n",
      " 0   car_name             5512 non-null   object\n",
      " 1   car_prices_in_rupee  5512 non-null   object\n",
      " 2   kms_driven           5512 non-null   object\n",
      " 3   fuel_type            5512 non-null   object\n",
      " 4   transmission         5512 non-null   object\n",
      " 5   ownership            5512 non-null   object\n",
      " 6   manufacture          5512 non-null   int64 \n",
      " 7   engine               5512 non-null   object\n",
      " 8   Seats                5512 non-null   object\n",
      "dtypes: int64(1), object(8)\n",
      "memory usage: 387.7+ KB\n"
     ]
    }
   ],
   "source": [
    "print(\"Info() and describe()\")\n",
    "print('infor : ')\n",
    "old.info()"
   ]
  },
  {
   "cell_type": "code",
   "execution_count": 16,
   "metadata": {},
   "outputs": [
    {
     "name": "stdout",
     "output_type": "stream",
     "text": [
      "describe :         manufacture\n",
      "count  5512.000000\n",
      "mean   2015.455552\n",
      "std       3.927974\n",
      "min    1995.000000\n",
      "25%    2013.000000\n",
      "50%    2016.000000\n",
      "75%    2018.000000\n",
      "max    2022.000000\n"
     ]
    }
   ],
   "source": [
    "print('describe : ',old.describe())"
   ]
  },
  {
   "cell_type": "code",
   "execution_count": 17,
   "metadata": {},
   "outputs": [
    {
     "name": "stdout",
     "output_type": "stream",
     "text": [
      "Count(number) of Unique data: \n",
      "\n",
      "\n",
      "car_name\n",
      "1896\n",
      "car_prices_in_rupee\n",
      "1300\n",
      "kms_driven\n",
      "2610\n",
      "fuel_type\n",
      "5\n",
      "transmission\n",
      "2\n",
      "ownership\n",
      "6\n",
      "manufacture\n",
      "26\n",
      "engine\n",
      "139\n",
      "Seats\n",
      "6\n"
     ]
    }
   ],
   "source": [
    "print(\"Count(number) of Unique data: \")\n",
    "print('\\n')\n",
    "for i in old.columns:\n",
    "    print(i)\n",
    "    print(old[i].nunique())"
   ]
  },
  {
   "cell_type": "code",
   "execution_count": 18,
   "metadata": {},
   "outputs": [
    {
     "name": "stdout",
     "output_type": "stream",
     "text": [
      "\n",
      " Unique data\n",
      "\n",
      "\n",
      "car_name\n",
      "['Jeep Compass 2.0 Longitude Option BSIV' 'Renault Duster RXZ Turbo CVT'\n",
      " 'Toyota Camry 2.5 G' ... 'Volvo XC 90 D5 Momentum BSIV'\n",
      " 'Mercedes-Benz E-Class E250 Edition E' 'BMW M Series M4 Coupe']\n",
      "car_prices_in_rupee\n",
      "['10.03 Lakh' '12.83 Lakh' '16.40 Lakh' ... '28.90 Lakh' '64.90 Lakh'\n",
      " '31.90 Lakh']\n",
      "kms_driven\n",
      "['86,226 kms' '13,248 kms' '60,343 kms' ... '1,54,000 kms' '79,718 kms'\n",
      " '85,002 kms']\n",
      "fuel_type\n",
      "['Diesel' 'Petrol' 'Cng' 'Electric' 'Lpg']\n",
      "transmission\n",
      "['Manual' 'Automatic']\n",
      "ownership\n",
      "['1st Owner' '2nd Owner' '3rd Owner' '4th Owner' '5th Owner' '0th Owner']\n",
      "manufacture\n",
      "[2017 2021 2016 2018 2015 2014 2020 2019 2012 2008 2013 2022 2010 2005\n",
      " 2009 2006 2011 2007 2002 2004 1998 2003 1995 2000 2001 1999]\n",
      "engine\n",
      "['1956 cc' '1330 cc' '2494 cc' '1199 cc' '1197 cc' '1498 cc' '1497 cc'\n",
      " '1368 cc' '1396 cc' '1373 cc' '1198 cc' '1462 cc' '799 cc' '998 cc'\n",
      " '1591 cc' '1999 cc' '999 cc' '814 cc' '796 cc' '1353 cc' '1451 cc'\n",
      " '1995 cc' '1991 cc' '2179 cc' '1798 cc' '1985 cc' '1968 cc' '2993 cc'\n",
      " '4134 cc' '1598 cc' '936 cc' '1248 cc' '2143 cc' '1086 cc' '1998 cc'\n",
      " '2198 cc' '2499 cc' '1496 cc' '1186 cc' '1582 cc' '1984 cc' '1997 cc'\n",
      " '1969 cc' '1493 cc' '2755 cc' '1196 cc' '2953 cc' '2184 cc' '1461 cc'\n",
      " '2987 cc' '1950 cc' '1395 cc' '2523 cc' '1193 cc' '1061 cc' '1298 cc'\n",
      " '1586 cc' '993 cc' '2354 cc' '1405 cc' '2967 cc' '0 cc' '2694 cc'\n",
      " '2696 cc' '2609 cc' '2998 cc' '2477 cc' '2393 cc' '2982 cc' '2199 cc'\n",
      " '1799 cc' '3198 cc' '1194 cc' '2997 cc' '1495 cc' '1794 cc' '2498 cc'\n",
      " '1364 cc' '1388 cc' '2596 cc' '1173 cc' '1797 cc' '1499 cc' '1399 cc'\n",
      " '4461 cc' '2400 cc' '1896 cc' '1796 cc' '3956 cc' '995 cc' '2995 cc'\n",
      " '2487 cc' '624 cc' '1993 cc' '2925 cc' '1599 cc' '1299 cc' '1120 cc'\n",
      " '2489 cc' '5461 cc' '3996 cc' '1595 cc' '4367 cc' '1996 cc' '5950 cc'\n",
      " '2996 cc' '4663 cc' '1150 cc' '2359 cc' '1422 cc' '1242 cc' '2698 cc'\n",
      " '2999 cc' '2894 cc' '2360 cc' '5000 cc' '2835 cc' '1596 cc' '1047 cc'\n",
      " '2446 cc' '909 cc' '2197 cc' '1527 cc' '1398 cc' '2994 cc' '2956 cc'\n",
      " '1781 cc' '2497 cc' '1172 cc' '793 cc' '1341 cc' '1390 cc' '1590 cc'\n",
      " '2157 cc' '3598 cc' '3200 cc' '3498 cc' '1332 cc' '2979 cc']\n",
      "Seats\n",
      "['5 Seats' '6 Seats' '7 Seats' '4 Seats' '8 Seats' '2 Seats']\n"
     ]
    }
   ],
   "source": [
    "print(\"\\n Unique data\")\n",
    "print('\\n')\n",
    "for i in old.columns:\n",
    "    print(i)\n",
    "    print(old[i].unique())"
   ]
  },
  {
   "cell_type": "code",
   "execution_count": 19,
   "metadata": {},
   "outputs": [
    {
     "name": "stdout",
     "output_type": "stream",
     "text": [
      "Columns with Objects:  ['car_name', 'car_prices_in_rupee', 'kms_driven', 'fuel_type', 'transmission', 'ownership', 'engine', 'Seats']\n",
      "\n",
      "Columns without Objects:  ['manufacture']\n"
     ]
    }
   ],
   "source": [
    "car =[]\n",
    "c = []\n",
    "for i in old.columns:\n",
    "    if (old[i].dtype == 'object'):\n",
    "        car.append(i)\n",
    "    else:\n",
    "        c.append(i)\n",
    "print(\"Columns with Objects: \",car)\n",
    "print(\"\\nColumns without Objects: \",c)"
   ]
  },
  {
   "cell_type": "code",
   "execution_count": 20,
   "metadata": {},
   "outputs": [
    {
     "name": "stdout",
     "output_type": "stream",
     "text": [
      "it's prints null columns and duplicates columns: \n",
      "      car_name  car_prices_in_rupee  kms_driven  fuel_type  transmission  \\\n",
      "0        False                False       False      False         False   \n",
      "1        False                False       False      False         False   \n",
      "2        False                False       False      False         False   \n",
      "3        False                False       False      False         False   \n",
      "4        False                False       False      False         False   \n",
      "...        ...                  ...         ...        ...           ...   \n",
      "5507     False                False       False      False         False   \n",
      "5508     False                False       False      False         False   \n",
      "5509     False                False       False      False         False   \n",
      "5510     False                False       False      False         False   \n",
      "5511     False                False       False      False         False   \n",
      "\n",
      "      ownership  manufacture  engine  Seats  \n",
      "0         False        False   False  False  \n",
      "1         False        False   False  False  \n",
      "2         False        False   False  False  \n",
      "3         False        False   False  False  \n",
      "4         False        False   False  False  \n",
      "...         ...          ...     ...    ...  \n",
      "5507      False        False   False  False  \n",
      "5508      False        False   False  False  \n",
      "5509      False        False   False  False  \n",
      "5510      False        False   False  False  \n",
      "5511      False        False   False  False  \n",
      "\n",
      "[5512 rows x 9 columns]\n",
      "0       False\n",
      "1       False\n",
      "2       False\n",
      "3       False\n",
      "4       False\n",
      "        ...  \n",
      "5507    False\n",
      "5508    False\n",
      "5509    False\n",
      "5510    False\n",
      "5511    False\n",
      "Length: 5512, dtype: bool\n",
      "                                    car_name car_prices_in_rupee  kms_driven  \\\n",
      "0     Jeep Compass 2.0 Longitude Option BSIV          10.03 Lakh  86,226 kms   \n",
      "1               Renault Duster RXZ Turbo CVT          12.83 Lakh  13,248 kms   \n",
      "2                         Toyota Camry 2.5 G          16.40 Lakh  60,343 kms   \n",
      "3                          Honda Jazz VX CVT           7.77 Lakh  26,696 kms   \n",
      "4           Volkswagen Polo 1.2 MPI Highline           5.15 Lakh  69,414 kms   \n",
      "...                                      ...                 ...         ...   \n",
      "5479       Jaguar F-Pace Prestige 2.0 Petrol             67 Lakh   9,000 kms   \n",
      "5485   Mercedes-Benz A-Class Limousine A 200             42 Lakh   3,000 kms   \n",
      "5497            Volvo XC 90 D5 Momentum BSIV          53.75 Lakh  55,000 kms   \n",
      "5499    Mercedes-Benz E-Class E250 Edition E          27.90 Lakh  59,000 kms   \n",
      "5508                   BMW M Series M4 Coupe          64.90 Lakh  29,000 kms   \n",
      "\n",
      "     fuel_type transmission  ownership  manufacture   engine    Seats  \n",
      "0       Diesel       Manual  1st Owner         2017  1956 cc  5 Seats  \n",
      "1       Petrol    Automatic  1st Owner         2021  1330 cc  5 Seats  \n",
      "2       Petrol    Automatic  1st Owner         2016  2494 cc  5 Seats  \n",
      "3       Petrol    Automatic  1st Owner         2018  1199 cc  5 Seats  \n",
      "4       Petrol       Manual  1st Owner         2016  1199 cc  5 Seats  \n",
      "...        ...          ...        ...          ...      ...      ...  \n",
      "5479    Petrol    Automatic  1st Owner         2021  1950 cc  7 Seats  \n",
      "5485    Petrol    Automatic  1st Owner         2022  1999 cc  5 Seats  \n",
      "5497    Diesel    Automatic  1st Owner         2018  1248 cc  5 Seats  \n",
      "5499    Diesel    Automatic  1st Owner         2017  1995 cc  5 Seats  \n",
      "5508    Petrol    Automatic  2nd Owner         2015  1968 cc  5 Seats  \n",
      "\n",
      "[1896 rows x 9 columns]\n"
     ]
    }
   ],
   "source": [
    "print(\"it's prints null columns and duplicates columns: \")\n",
    "print(old.isnull())\n",
    "print(old.duplicated())\n",
    "print(old.drop_duplicates('car_name'))"
   ]
  },
  {
   "cell_type": "code",
   "execution_count": 21,
   "metadata": {},
   "outputs": [
    {
     "name": "stdout",
     "output_type": "stream",
     "text": [
      "      Unnamed: 0                                car_name car_prices_in_rupee  \\\n",
      "0              0  Jeep Compass 2.0 Longitude Option BSIV          10.03 Lakh   \n",
      "1              1            Renault Duster RXZ Turbo CVT          12.83 Lakh   \n",
      "2              2                      Toyota Camry 2.5 G          16.40 Lakh   \n",
      "3              3                       Honda Jazz VX CVT           7.77 Lakh   \n",
      "4              4        Volkswagen Polo 1.2 MPI Highline           5.15 Lakh   \n",
      "...          ...                                     ...                 ...   \n",
      "5507        5507                 BMW X1 sDrive 20d xLine          28.90 Lakh   \n",
      "5508        5508                   BMW M Series M4 Coupe          64.90 Lakh   \n",
      "5509        5509              Jaguar XF 2.2 Litre Luxury          13.75 Lakh   \n",
      "5510        5510                      BMW 7 Series 730Ld          29.90 Lakh   \n",
      "5511        5511               BMW 5 Series 520d M Sport          31.90 Lakh   \n",
      "\n",
      "      kms_driven fuel_type transmission  ownership  manufacture   engine  \\\n",
      "0     86,226 kms    Diesel       Manual  1st Owner         2017  1956 cc   \n",
      "1     13,248 kms    Petrol    Automatic  1st Owner         2021  1330 cc   \n",
      "2     60,343 kms    Petrol    Automatic  1st Owner         2016  2494 cc   \n",
      "3     26,696 kms    Petrol    Automatic  1st Owner         2018  1199 cc   \n",
      "4     69,414 kms    Petrol       Manual  1st Owner         2016  1199 cc   \n",
      "...          ...       ...          ...        ...          ...      ...   \n",
      "5507  45,000 kms    Diesel    Automatic  1st Owner         2018  2995 cc   \n",
      "5508  29,000 kms    Petrol    Automatic  2nd Owner         2015  1968 cc   \n",
      "5509  90,000 kms    Diesel    Automatic  2nd Owner         2013  2755 cc   \n",
      "5510  79,000 kms    Diesel    Automatic  3rd Owner         2015  2967 cc   \n",
      "5511  42,000 kms    Diesel    Automatic  2nd Owner         2017  1991 cc   \n",
      "\n",
      "        Seats  \n",
      "0     5 Seats  \n",
      "1     5 Seats  \n",
      "2     5 Seats  \n",
      "3     5 Seats  \n",
      "4     5 Seats  \n",
      "...       ...  \n",
      "5507  7 Seats  \n",
      "5508  5 Seats  \n",
      "5509  5 Seats  \n",
      "5510  6 Seats  \n",
      "5511  5 Seats  \n",
      "\n",
      "[5512 rows x 10 columns]\n"
     ]
    }
   ],
   "source": [
    "filtered_data = df[df['manufacture'] > 10]\n",
    "print(filtered_data)\n"
   ]
  },
  {
   "cell_type": "code",
   "execution_count": 22,
   "metadata": {},
   "outputs": [
    {
     "name": "stdout",
     "output_type": "stream",
     "text": [
      "\n",
      " Sorting the data : \n",
      "                            car_name car_prices_in_rupee    kms_driven  \\\n",
      "733           Audi A3 35 TDI Premium          29.50 Lakh    11,000 kms   \n",
      "5411     Audi A3 35 TDI Premium Plus          17.50 Lakh    70,000 kms   \n",
      "3936     Audi A3 35 TDI Premium Plus          13.09 Lakh    67,301 kms   \n",
      "1841     Audi A3 35 TDI Premium Plus          20.75 Lakh    45,000 kms   \n",
      "330      Audi A3 35 TDI Premium Plus          25.80 Lakh    39,000 kms   \n",
      "...                              ...                 ...           ...   \n",
      "1798       Volvo XC60 D5 Inscription             24 Lakh  1,20,000 kms   \n",
      "4613            Volvo XC60 D5 Summum          15.56 Lakh  1,26,553 kms   \n",
      "1158       Volvo XC60 Inscription D5             60 Lakh     7,500 kms   \n",
      "1452       Volvo XC60 Inscription D5             60 Lakh     7,500 kms   \n",
      "3812  Volvo XC60 Inscription D5 BSIV          56.75 Lakh    13,000 kms   \n",
      "\n",
      "     fuel_type transmission  ownership  manufacture   engine    Seats  \n",
      "733     Diesel    Automatic  1st Owner         2017  1086 cc  5 Seats  \n",
      "5411    Diesel    Automatic  2nd Owner         2017  1198 cc  5 Seats  \n",
      "3936    Diesel    Automatic  2nd Owner         2015   999 cc  5 Seats  \n",
      "1841    Diesel    Automatic  1st Owner         2017  3198 cc  7 Seats  \n",
      "330     Diesel    Automatic  1st Owner         2020  1968 cc  5 Seats  \n",
      "...        ...          ...        ...          ...      ...      ...  \n",
      "1798    Diesel    Automatic  1st Owner         2015  1968 cc  5 Seats  \n",
      "4613    Diesel    Automatic  1st Owner         2013   999 cc  7 Seats  \n",
      "1158    Diesel    Automatic  1st Owner         2020  1798 cc  5 Seats  \n",
      "1452    Diesel    Automatic  1st Owner         2020  1198 cc  6 Seats  \n",
      "3812    Diesel    Automatic  1st Owner         2019  1086 cc  5 Seats  \n",
      "\n",
      "[5512 rows x 9 columns]\n"
     ]
    }
   ],
   "source": [
    "print('\\n Sorting the data : ')\n",
    "print(old.sort_values([\"car_name\",\"kms_driven\"], ascending = [True, False]))"
   ]
  },
  {
   "cell_type": "code",
   "execution_count": 23,
   "metadata": {},
   "outputs": [
    {
     "name": "stdout",
     "output_type": "stream",
     "text": [
      "\n",
      " Grouping : \n",
      "{'Audi A3 35 TDI Premium': [733], 'Audi A3 35 TDI Premium Plus': [330, 1222, 1558, 1610, 1841, 2191, 2786, 3936, 4083, 5267, 5411], 'Audi A4 1.8 TFSI': [2922, 4295], 'Audi A4 2.0 TDI': [1282, 1591, 1937, 3408, 3452, 5454], 'Audi A4 2.0 TDI Multitronic': [170, 1752], 'Audi A4 2.0 TDI Technology Edition': [61, 5319], 'Audi A4 2.0 TFSI': [1790], 'Audi A4 30 TFSI Premium Plus': [3702, 4232], 'Audi A4 30 TFSI Technology': [2919, 2934, 4274, 4368], 'Audi A4 35 TDI Premium Plus': [443], 'Audi A4 35 TDI Technology': [2928, 4344], 'Audi A4 35 TDI Technology Edition': [2915, 4267], 'Audi A4 35 TFSi Premium': [2933, 4357], 'Audi A4 New  2.0 TDI Multitronic': [2373], 'Audi A4 Technology': [2912, 2917, 4245, 4272], 'Audi A6 2.0 TDI': [870, 1241, 1578], 'Audi A6 2.0 TDI Premium Plus': [1200, 1528, 1942, 2996, 5250], 'Audi A6 2.7 TDI': [1799], 'Audi A6 3.0 TDI Quattro Premium Plus': [773, 1311, 2959], 'Audi A6 3.0 TDI Quattro Technology': [621, 1917], 'Audi A6 3.0 TDI quattro': [4450], 'Audi A6 35 TDI': [568, 769, 1130, 1414, 1769, 2938, 2956, 3095, 4377, 5234], 'Audi A6 35 TDI Technology': [3438, 3711, 4278], 'Audi A6 35 TFSI Matrix': [1160, 1442, 2923, 2954, 4297, 5264], 'Audi A6 45 TFSI Technology': [2916, 4268], 'Audi A8 L 50 TDI Quattro Premium Plus': [1189, 1516, 5245], 'Audi Q3 2.0 TDI': [62, 532], 'Audi Q3 2.0 TDI Quattro Premium Plus': [1159, 1286, 1328, 1456, 1667, 4221, 5461], 'Audi Q3 2.0 TDI WCI': [1800], 'Audi Q3 30 TDI': [281], 'Audi Q3 30 TFSI Premium FWD': [196, 830], 'Audi Q3 35 TDI Quattro Premium': [104, 285, 1749, 2920, 4275], 'Audi Q3 35 TDI Quattro Premium Plus': [454, 574, 1099, 1330, 1399, 2921, 3027, 3393, 3468, 3573, 4084, 4276, 5271], 'Audi Q5 2.0 TDI': [5392], 'Audi Q5 2.0 TDI Premium Plus': [626, 1181, 1199, 1501, 1527, 5240, 5249], 'Audi Q5 2.0 TFSI Quattro': [937], 'Audi Q5 3.0 TDI Quattro': [300, 1151, 1443, 2132, 3013], 'Audi Q5 3.0 TDI Quattro Technology': [1153, 1434, 5261], 'Audi Q5 30 TDI quattro Premium': [1145, 1426, 5253], 'Audi Q5 30 TDI quattro Premium Plus': [2914, 4252], 'Audi Q5 40 TDI Premium Plus': [3701, 4224], 'Audi Q7 3.0 TDI Quattro Premium Plus': [603, 666, 749, 3411, 5357, 5371], 'Audi Q7 3.0 TDI quattro': [1802], 'Audi Q7 4.2 TDI quattro': [3296], 'Audi Q7 45 TDI Quattro Premium Plus': [304, 1157, 1450, 1803, 3016], 'Audi Q7 45 TDI Quattro Technology': [283, 535, 662, 877, 1293, 3078, 4144, 5382], 'Audi Q8 55 TFSI Quattro': [3290], 'Audi RS5 Coupe': [1918], 'Audi RS7 4.0 TFSI': [2910, 2911, 4213, 4220], 'Audi S5 3.0 TFSIq Tiptronic': [765], 'Audi S5 3.0L TFSI Quattro': [2761], 'BMW 2 Series 220i M Sport': [84, 4405, 4619, 4926, 5471], 'BMW 3 Series 320d': [163, 366, 678, 1804, 1805, 2118, 2864, 3385, 3455, 4005], 'BMW 3 Series 320d GT Luxury Line': [1169, 1468, 5237], 'BMW 3 Series 320d Luxury Line': [72, 622, 1885, 2064, 4393, 4914, 5347], 'BMW 3 Series 320d Sport': [1806], 'BMW 3 Series 320d Sport Line': [610, 665, 3472], 'BMW 3 Series 320i Sedan': [571], 'BMW 3 Series GT Luxury Line': [597, 2063], 'BMW 3 Series Gran Limousine 330Li M Sport First Edition': [280], 'BMW 3 Series Luxury Edition': [1398], 'BMW 5 Series 520d Luxury Line': [46, 401, 412, 725, 741, 884, 1096, 1301, 1496, 1809, 3085, 3705, 4152, 4235, 5181, 5390], 'BMW 5 Series 520d M Sport': [2176, 5511], 'BMW 5 Series 520d Modern Line': [745, 1755], 'BMW 5 Series 520d Sedan': [4085], 'BMW 5 Series 520d Sport Line': [1138, 1422, 5235], 'BMW 5 Series 520i': [3342], 'BMW 5 Series 525d Luxury Line': [924], 'BMW 5 Series 525d Sedan': [3548], 'BMW 5 Series 530d': [63], 'BMW 5 Series 530d M Sport': [375, 1719, 5408], 'BMW 5 Series 530i M Sport': [1284, 3703, 4233, 5275], 'BMW 6 Series GT 620d Luxury Line 2019-2021': [1172, 1453, 5272], 'BMW 6 Series GT 630i Luxury Line 2018-2021': [2932, 4356], 'BMW 7 Series 730Ld': [735, 1962, 3462, 5510], 'BMW 7 Series 730Ld DPE Signature': [531, 1526, 1819], 'BMW 7 Series 730Ld Eminence': [5369], 'BMW 7 Series 730Ld M Sport': [632], 'BMW 7 Series 730Ld Sedan': [391], 'BMW M Series M4 Coupe': [5508], 'BMW X1 sDrive 18i': [3399], 'BMW X1 sDrive 20D xLine': [1936], 'BMW X1 sDrive 20d xLine': [115, 630, 900, 1343, 1609, 1775, 3105, 4168, 4679, 5418, 5440, 5507], 'BMW X1 sDrive20d': [2059, 2445, 3515, 4563, 4648], 'BMW X1 sDrive20d Expedition': [4526, 4793], 'BMW X1 sDrive20d xLine': [347], 'BMW X1 sDrive20i xLine': [932, 1203, 1531, 3137, 4200, 5252, 5462], 'BMW X1 xDrive 20d xLine': [1163, 1462], 'BMW X3 xDrive 20d Luxury Line': [164, 387, 845, 1220, 1518, 3046, 4112, 5322], 'BMW X3 xDrive 30i Luxury Line': [1298, 3715, 4315, 5283], 'BMW X3 xDrive20d': [4088, 5017], 'BMW X3 xDrive20d xLine': [436], 'BMW X3 xDrive30d M Sport': [1807], 'BMW X4 M Sport X xDrive20d': [1022, 3211, 5476], 'BMW X4 xDrive30i M Sport Silver Shadow Edition': [809, 1193, 1480, 3026, 4078, 5292], 'BMW X5 xDrive 30d': [642, 1247, 1556, 2845, 5342, 5504, 5506], 'BMW X5 xDrive 30d Design Pure Experience 5 Seater': [368, 3337], 'BMW X5 xDrive 30d Expedition': [1320, 5299], 'BMW X5 xDrive 30d M Sport': [1184, 1506, 1951, 5242], 'BMW X5 xDrive 30d xLine': [873, 1167, 1285, 1467, 3074, 4140, 5374], ...}\n"
     ]
    }
   ],
   "source": [
    "print(\"\\n Grouping : \")\n",
    "groups = old.groupby([\"car_name\"])\n",
    "print(groups.groups)"
   ]
  },
  {
   "cell_type": "code",
   "execution_count": 24,
   "metadata": {},
   "outputs": [
    {
     "name": "stdout",
     "output_type": "stream",
     "text": [
      "\n",
      " Size : \n",
      "49608\n"
     ]
    }
   ],
   "source": [
    "print(\"\\n Size : \")\n",
    "print(old.size)"
   ]
  },
  {
   "cell_type": "code",
   "execution_count": 25,
   "metadata": {},
   "outputs": [
    {
     "name": "stdout",
     "output_type": "stream",
     "text": [
      "               car_name car_prices_in_rupee  kms_driven fuel_type  \\\n",
      "3     Honda Jazz VX CVT           7.77 Lakh  26,696 kms    Petrol   \n",
      "1705  Honda Jazz VX CVT           7.89 Lakh  22,000 kms    Petrol   \n",
      "4698  Honda Jazz VX CVT           6.23 Lakh  94,834 kms    Petrol   \n",
      "\n",
      "     transmission  ownership  manufacture   engine    Seats  \n",
      "3       Automatic  1st Owner         2018  1199 cc  5 Seats  \n",
      "1705    Automatic  1st Owner         2019  1199 cc  5 Seats  \n",
      "4698    Automatic  1st Owner         2018  1499 cc  5 Seats  \n"
     ]
    }
   ],
   "source": [
    "o=old.query(\"car_name == 'Honda Jazz VX CVT'\")\n",
    "print(o)\n"
   ]
  }
 ],
 "metadata": {
  "kernelspec": {
   "display_name": "Python 3",
   "language": "python",
   "name": "python3"
  },
  "language_info": {
   "codemirror_mode": {
    "name": "ipython",
    "version": 3
   },
   "file_extension": ".py",
   "mimetype": "text/x-python",
   "name": "python",
   "nbconvert_exporter": "python",
   "pygments_lexer": "ipython3",
   "version": "3.11.5"
  },
  "orig_nbformat": 4
 },
 "nbformat": 4,
 "nbformat_minor": 2
}
