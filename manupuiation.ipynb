{
 "cells": [
  {
   "cell_type": "code",
   "execution_count": 1,
   "metadata": {},
   "outputs": [],
   "source": [
    "import pandas as pd\n",
    "\n",
    "data1={\n",
    "    \"Emp_id\":[\"E01\",\"E02\",\"E03\",\"E04\",\"E05\",\"E06\"],\n",
    "    \"Name\":[\"Ram\",\"Shyam\",\"John\",\"Rahul\",\"Pan\",\"John\"],\n",
    "    \"Age\":[35,37,46,23,26,36]}\n",
    "\n",
    "data2={\n",
    "    \"Emp_id\":[\"E01\",\"E02\",\"E03\",\"E04\",\"E06\",\"E09\"],\n",
    "    \"Salary\":[45000,57000,46000,23000,23000,22000]\n",
    "    }\n"
   ]
  },
  {
   "cell_type": "code",
   "execution_count": 2,
   "metadata": {},
   "outputs": [
    {
     "name": "stdout",
     "output_type": "stream",
     "text": [
      "  Emp_id   Name  Age\n",
      "0    E01    Ram   35\n",
      "1    E02  Shyam   37\n",
      "2    E03   John   46\n",
      "3    E04  Rahul   23\n",
      "4    E05    Pan   26\n",
      "5    E06   John   36\n"
     ]
    }
   ],
   "source": [
    "df1=pd.DataFrame(data1)\n",
    "print(df1)"
   ]
  },
  {
   "cell_type": "code",
   "execution_count": 3,
   "metadata": {},
   "outputs": [
    {
     "name": "stdout",
     "output_type": "stream",
     "text": [
      "  Emp_id  Salary\n",
      "0    E01   45000\n",
      "1    E02   57000\n",
      "2    E03   46000\n",
      "3    E04   23000\n",
      "4    E06   23000\n",
      "5    E09   22000\n"
     ]
    }
   ],
   "source": [
    "df2=pd.DataFrame(data2)\n",
    "print(df2)\n"
   ]
  },
  {
   "cell_type": "code",
   "execution_count": 4,
   "metadata": {},
   "outputs": [
    {
     "name": "stdout",
     "output_type": "stream",
     "text": [
      "  Emp_id   Name  Age  Salary\n",
      "0    E01    Ram   35   45000\n",
      "1    E02  Shyam   37   57000\n",
      "2    E03   John   46   46000\n",
      "3    E04  Rahul   23   23000\n",
      "4    E06   John   36   23000\n"
     ]
    }
   ],
   "source": [
    "print(pd.merge(df1,df2,on='Emp_id'))\n"
   ]
  },
  {
   "cell_type": "code",
   "execution_count": 5,
   "metadata": {},
   "outputs": [
    {
     "name": "stdout",
     "output_type": "stream",
     "text": [
      "  Emp_id   Name  Age   Salary\n",
      "0    E01    Ram   35  45000.0\n",
      "1    E02  Shyam   37  57000.0\n",
      "2    E03   John   46  46000.0\n",
      "3    E04  Rahul   23  23000.0\n",
      "4    E05    Pan   26      NaN\n",
      "5    E06   John   36  23000.0\n"
     ]
    }
   ],
   "source": [
    "print(pd.merge(df1,df2,on='Emp_id',how='left'))\n"
   ]
  },
  {
   "cell_type": "code",
   "execution_count": 6,
   "metadata": {},
   "outputs": [
    {
     "name": "stdout",
     "output_type": "stream",
     "text": [
      "  Emp_id   Name   Age  Salary\n",
      "0    E01    Ram  35.0   45000\n",
      "1    E02  Shyam  37.0   57000\n",
      "2    E03   John  46.0   46000\n",
      "3    E04  Rahul  23.0   23000\n",
      "4    E06   John  36.0   23000\n",
      "5    E09    NaN   NaN   22000\n"
     ]
    }
   ],
   "source": [
    "print(pd.merge(df1,df2,on='Emp_id',how='right'))\n"
   ]
  },
  {
   "cell_type": "code",
   "execution_count": 7,
   "metadata": {},
   "outputs": [
    {
     "name": "stdout",
     "output_type": "stream",
     "text": [
      "  Emp_id   Name   Age   Salary\n",
      "0    E01    Ram  35.0      NaN\n",
      "1    E02  Shyam  37.0      NaN\n",
      "2    E03   John  46.0      NaN\n",
      "3    E04  Rahul  23.0      NaN\n",
      "4    E05    Pan  26.0      NaN\n",
      "5    E06   John  36.0      NaN\n",
      "0    E01    NaN   NaN  45000.0\n",
      "1    E02    NaN   NaN  57000.0\n",
      "2    E03    NaN   NaN  46000.0\n",
      "3    E04    NaN   NaN  23000.0\n",
      "4    E06    NaN   NaN  23000.0\n",
      "5    E09    NaN   NaN  22000.0\n"
     ]
    }
   ],
   "source": [
    "print(pd.concat([df1,df2]))\n"
   ]
  },
  {
   "cell_type": "code",
   "execution_count": 8,
   "metadata": {},
   "outputs": [
    {
     "name": "stdout",
     "output_type": "stream",
     "text": [
      "   Fruits  Price  Quantity\n",
      "0   mango    100        16\n",
      "1   apple    203        12\n",
      "2  Banana     34        13\n",
      "3  Orange     56        14\n"
     ]
    }
   ],
   "source": [
    "dict1={\"Fruits\":[\"mango\",\"apple\",\"Banana\",\"Orange\"],\n",
    "    \"Price\":[100,203,34,56],\n",
    "    \"Quantity\":[16,12,13,14]\n",
    "}\n",
    "df3=pd.DataFrame(dict1)\n",
    "print(df3)\n"
   ]
  },
  {
   "cell_type": "code",
   "execution_count": 9,
   "metadata": {},
   "outputs": [
    {
     "name": "stdout",
     "output_type": "stream",
     "text": [
      "   Fruits  Price  Quantity\n",
      "0   mango    100        16\n",
      "1   apple    203        12\n",
      "2  Banana     34        13\n",
      "3  Orange     56        14\n"
     ]
    }
   ],
   "source": [
    "df4=df3.copy()\n",
    "print(df4)\n"
   ]
  },
  {
   "cell_type": "code",
   "execution_count": 10,
   "metadata": {},
   "outputs": [
    {
     "name": "stdout",
     "output_type": "stream",
     "text": [
      "   Fruits  Price  Quantity\n",
      "0   mango    120        16\n",
      "1   apple    240        12\n",
      "2  Banana    340        13\n",
      "3  Orange     56        14\n"
     ]
    }
   ],
   "source": [
    "df4.loc[0,\"Price\"]=120\n",
    "df4.loc[1,\"Price\"]=240\n",
    "df4.loc[2,\"Price\"]=340\n",
    "print(df4)\n"
   ]
  },
  {
   "cell_type": "code",
   "execution_count": 11,
   "metadata": {},
   "outputs": [
    {
     "name": "stdout",
     "output_type": "stream",
     "text": [
      "   Price       \n",
      "    self  other\n",
      "0  100.0  120.0\n",
      "1  203.0  240.0\n",
      "2   34.0  340.0\n"
     ]
    }
   ],
   "source": [
    "print(df3.compare(df4))\n"
   ]
  },
  {
   "cell_type": "code",
   "execution_count": 12,
   "metadata": {},
   "outputs": [
    {
     "name": "stdout",
     "output_type": "stream",
     "text": [
      "   Fruits variable  value\n",
      "0   mango    Price    100\n",
      "1   apple    Price    203\n",
      "2  Banana    Price     34\n",
      "3  Orange    Price     56\n"
     ]
    }
   ],
   "source": [
    "print(pd.melt(df3,id_vars=[\"Fruits\"],value_vars=[\"Price\"]))"
   ]
  },
  {
   "cell_type": "code",
   "execution_count": 13,
   "metadata": {},
   "outputs": [
    {
     "name": "stdout",
     "output_type": "stream",
     "text": [
      "   Fruits Price&Quantity  values\n",
      "0   mango          Price     100\n",
      "1   apple          Price     203\n",
      "2  Banana          Price      34\n",
      "3  Orange          Price      56\n",
      "4   mango       Quantity      16\n",
      "5   apple       Quantity      12\n",
      "6  Banana       Quantity      13\n",
      "7  Orange       Quantity      14\n"
     ]
    }
   ],
   "source": [
    "print(pd.melt(df3,id_vars=[\"Fruits\"],value_vars=[\"Price\",\"Quantity\"],var_name=\"Price&Quantity\",value_name=\"values\"))\n"
   ]
  }
 ],
 "metadata": {
  "kernelspec": {
   "display_name": "Python 3",
   "language": "python",
   "name": "python3"
  },
  "language_info": {
   "codemirror_mode": {
    "name": "ipython",
    "version": 3
   },
   "file_extension": ".py",
   "mimetype": "text/x-python",
   "name": "python",
   "nbconvert_exporter": "python",
   "pygments_lexer": "ipython3",
   "version": "3.11.5"
  },
  "orig_nbformat": 4
 },
 "nbformat": 4,
 "nbformat_minor": 2
}
